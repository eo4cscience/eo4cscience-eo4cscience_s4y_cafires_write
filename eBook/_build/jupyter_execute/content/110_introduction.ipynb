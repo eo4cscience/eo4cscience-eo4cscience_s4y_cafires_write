{
 "cells": [
  {
   "cell_type": "markdown",
   "id": "bd7e64fe",
   "metadata": {},
   "source": [
    "# 1. INTRODUCTION\n",
    "\n",
    "\n",
    "```{admonition} HINT - WRITER GUIDE\n",
    ":class: tip\n",
    "this is the introduction to the content of the publication and is where the reader is presented with the overview of the publication. It sets the general introduction and stages the \"three-components\" of the publication. The main purpose of the introduction page is to grab the reader with the relevance on why to proceed with reading or working with the document. This content is independent of the \"reader-first\" or \"science-first\" separation.\n",
    "```\n",
    "\n",
    "<font color='teal'>...PLACE YOUR ARTICLE SUMMARY AT THIS LOCATION...<br>This is the same content as from the 120_page summary.</font>\n",
    "\n",
    "\n",
    "## Reader Guide\n",
    "\n",
    "In the READER guide section we give s hort description of each chapter's content and the learning objectives for the chapter. So typicall it starts with something like.\n",
    "\n",
    "The following few paragraphs describe the topics we shall be addressing in the chapters of the book.\n",
    "\n",
    "In chapter [](./120_the_publication) this is the entry point into the full journalistic content of the publication and is the main point for communicating with the reader from the \"reader-first\" point of view. Any sub-parts are provided through the hierarchy of the `_toc.yml` file.\n",
    "\n",
    "Finally in chapter [](./130_the_metadata) this section of the publication provides the information about satellites, datasources, software and their versions so the user knows from where the source data was obtained.\n",
    "\n",
    "In the next chapter [](./140_the_science) this is the hands-on guided process for setting up and recreating the data that was used to create the source data for the journalistic content of the S4Y article. Any sub-parts are provided through the hierarchy of the `_toc.yml` file.\n",
    "\n",
    "\n",
    "In the bibiliography all source citations are provided."
   ]
  }
 ],
 "metadata": {
  "jupytext": {
   "text_representation": {
    "extension": ".md",
    "format_name": "myst"
   }
  },
  "kernelspec": {
   "display_name": "Python 3",
   "language": "python",
   "name": "python3"
  },
  "language_info": {
   "codemirror_mode": {
    "name": "ipython",
    "version": 3
   },
   "file_extension": ".py",
   "mimetype": "text/x-python",
   "name": "python",
   "nbconvert_exporter": "python",
   "pygments_lexer": "ipython3",
   "version": "3.10.10"
  },
  "source_map": [
   10
  ]
 },
 "nbformat": 4,
 "nbformat_minor": 5
}