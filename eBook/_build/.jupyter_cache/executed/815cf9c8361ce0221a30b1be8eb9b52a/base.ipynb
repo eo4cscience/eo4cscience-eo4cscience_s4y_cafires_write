{
 "cells": [
  {
   "cell_type": "code",
   "execution_count": 1,
   "id": "4c03f238",
   "metadata": {},
   "outputs": [],
   "source": [
    "import matplotlib.pyplot as plt        # this provides a shortcut alias for the plotting functions\n",
    "import matplotlib                      # this makes graphing and plotting features available to the chapter code\n",
    "from myst_nb import glue               # this is used to support references between markdown and code\n",
    "\n",
    "import numpy   as np                   # this makes the numpy library available to the chapter code\n",
    "import sklearn as scp                  # this makes the scipy library available to the chapter code\n",
    "import sympy   as smp                  # this makes the sympy library available to the chapter code"
   ]
  }
 ],
 "metadata": {
  "jupytext": {
   "text_representation": {
    "extension": ".md",
    "format_name": "myst",
    "format_version": 0.13,
    "jupytext_version": "1.14.5"
   }
  },
  "kernelspec": {
   "display_name": "Python 3",
   "language": "python",
   "name": "python3"
  },
  "language_info": {
   "codemirror_mode": {
    "name": "ipython",
    "version": 3
   },
   "file_extension": ".py",
   "mimetype": "text/x-python",
   "name": "python",
   "nbconvert_exporter": "python",
   "pygments_lexer": "ipython3",
   "version": "3.10.10"
  },
  "source_map": [
   12,
   24
  ]
 },
 "nbformat": 4,
 "nbformat_minor": 5
}